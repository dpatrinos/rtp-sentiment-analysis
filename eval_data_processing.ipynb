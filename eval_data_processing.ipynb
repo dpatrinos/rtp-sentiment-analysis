{
 "cells": [
  {
   "cell_type": "code",
   "execution_count": null,
   "metadata": {},
   "outputs": [],
   "source": [
    "import pandas as pd"
   ]
  },
  {
   "cell_type": "code",
   "execution_count": null,
   "metadata": {},
   "outputs": [],
   "source": [
    "with open(\"final_data.csv\", \"r\", encoding=\"utf-8\") as f:\n",
    "    df = pd.read_csv(f, header=None)\n",
    "\n",
    "df.head()"
   ]
  },
  {
   "cell_type": "code",
   "execution_count": null,
   "metadata": {},
   "outputs": [],
   "source": [
    "# adjusting sentiments such that 1 is most liberal and 0 is most conservative\n",
    "#\n",
    "#  issue            current                  needs flipped (y/n)\n",
    "# abortion -> 1=liberal, 0=conservative             n\n",
    "# welfare -> 1=liberal, 0=conservative              n\n",
    "# bush -> 1=conservative, 0=liberal                 y\n",
    "# clinton -> 1=liberal, 0=conservative              n\n",
    "# dole -> 1=conservative, 0=liberal                 y\n",
    "# affirmative_action -> 1=liberal, 0=conservative   n\n",
    "# conservative -> 1=conservative, 0=liberal         y\n",
    "# liberal -> 1=liberal, 0=conservative              n\n",
    "# republican -> 1=conservative, 0=liberal           y\n",
    "# democrat -> 1=liberal, 0=conservative             n\n",
    "# gop -> 1=conservative, 0=liberal                  y\n",
    "\n",
    "flipped_keywords = [\n",
    "    'bush', 'dole', 'conservative', 'republican', 'gop'\n",
    "]\n",
    "weighted_predictions = []\n",
    "val = 0\n",
    "for i in range(len(df)):\n",
    "    if df.iat[i, 4] in flipped_keywords:\n",
    "        val = 1.0-float(df.iat[i,1])\n",
    "        df.iat[i,1] = val\n",
    "\n",
    "df.head()"
   ]
  },
  {
   "cell_type": "code",
   "execution_count": null,
   "metadata": {},
   "outputs": [],
   "source": [
    "#save DataFrame to .csv one last time, containing all data + weights\n",
    "df.to_csv(\"/data/final_data_weighted.csv\", index=False, header=False)"
   ]
  }
 ],
 "metadata": {
  "language_info": {
   "name": "python"
  },
  "orig_nbformat": 4
 },
 "nbformat": 4,
 "nbformat_minor": 2
}
