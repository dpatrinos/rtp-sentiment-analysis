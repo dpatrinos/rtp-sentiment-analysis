{
 "cells": [
  {
   "cell_type": "code",
   "execution_count": 28,
   "metadata": {},
   "outputs": [],
   "source": [
    "#@title Licensed under the Apache License, Version 2.0 (the \"License\");\n",
    "# you may not use this file except in compliance with the License.\n",
    "# You may obtain a copy of the License at\n",
    "#\n",
    "# https://www.apache.org/licenses/LICENSE-2.0\n",
    "#\n",
    "# Unless required by applicable law or agreed to in writing, software\n",
    "# distributed under the License is distributed on an \"AS IS\" BASIS,\n",
    "# WITHOUT WARRANTIES OR CONDITIONS OF ANY KIND, either express or implied.\n",
    "# See the License for the specific language governing permissions and\n",
    "# limitations under the License.\n",
    "#\n",
    "# THIS FILE HAS BEEN MODIFIED\n",
    "\n",
    "import os\n",
    "import shutil\n",
    "\n",
    "import tensorflow as tf\n",
    "import tensorflow_hub as hub\n",
    "import tensorflow_text as text\n",
    "import pandas as pd\n",
    "import numpy as np\n",
    "from official.nlp import optimization  # to create AdamW optimizer\n",
    "\n",
    "import matplotlib.pyplot as plt\n",
    "\n",
    "tf.get_logger().setLevel('ERROR')"
   ]
  },
  {
   "cell_type": "code",
   "execution_count": 29,
   "metadata": {},
   "outputs": [],
   "source": [
    "#bring the model back in\n",
    "dataset_name = 'imdb'\n",
    "saved_model_path = './{}_bert'.format(dataset_name.replace('/', '_'))\n",
    "reloaded_model = tf.saved_model.load(saved_model_path)"
   ]
  },
  {
   "cell_type": "code",
   "execution_count": 30,
   "metadata": {},
   "outputs": [],
   "source": [
    "#get the RTP sentences in\n",
    "with open(\"complete_data.csv\", \"r\", encoding=\"utf-8\") as f:\n",
    "    df_sentences = pd.read_csv(f, usecols=[1], names=['sentences'])\n",
    "\n",
    "sentences = df_sentences['sentences'].values.tolist()\n",
    "results = tf.sigmoid(reloaded_model(tf.constant(sentences)))\n",
    "np_results = results.numpy()\n",
    "print(\"examples:\")\n",
    "print(\"sentence:\", sentences[2], \"       : score:\", \"{:.6f}\".format(np.results[2][0]))\n",
    "print(\"sentence:\", sentences[17], \"   : score:\", \"{:.6f}\".format(np.results[17][0]))"
   ]
  },
  {
   "cell_type": "code",
   "execution_count": null,
   "metadata": {},
   "outputs": [],
   "source": [
    "#get the results to type=list\n",
    "list_results = []\n",
    "for i in range(len(np_results)):\n",
    "    list_results.append(\"{:.6f}\".format(np_results[i][0])"
   ]
  },
  {
   "cell_type": "code",
   "execution_count": null,
   "metadata": {},
   "outputs": [],
   "source": [
    "#read in complete_data to DataFrame which will become the final dataset\n",
    "with open(\"complete_data.csv\", \"r\", encoding=\"utf-8\") as f:\n",
    "    df_final = pd.read_csv(f, header=None)\n",
    "\n",
    "df_final.head()"
   ]
  },
  {
   "cell_type": "code",
   "execution_count": null,
   "metadata": {},
   "outputs": [],
   "source": [
    "#create a final DataFrame with all data (including the results)\n",
    "df_final.insert(loc=1, column='results-inserted' value=list_results)\n",
    "df_final.head()"
   ]
  },
  {
   "cell_type": "code",
   "execution_count": null,
   "metadata": {},
   "outputs": [],
   "source": [
    "#save DataFrame to .csv\n",
    "df_final.to_csv(\"final_data.csv\", index=False, header=False)"
   ]
  }
 ],
 "metadata": {
  "interpreter": {
   "hash": "838301c4acc3ee57777ee3459a885427ae33a82cd4c2ca3bd31d44c31500ebc4"
  },
  "kernelspec": {
   "display_name": "Python 3.9.2 ('dci')",
   "language": "python",
   "name": "python3"
  },
  "language_info": {
   "codemirror_mode": {
    "name": "ipython",
    "version": 3
   },
   "file_extension": ".py",
   "mimetype": "text/x-python",
   "name": "python",
   "nbconvert_exporter": "python",
   "pygments_lexer": "ipython3",
   "version": "3.8.8"
  },
  "orig_nbformat": 4
 },
 "nbformat": 4,
 "nbformat_minor": 2
}
