{
 "cells": [
  {
   "cell_type": "code",
   "execution_count": 1,
   "metadata": {},
   "outputs": [],
   "source": [
    "#@title Licensed under the Apache License, Version 2.0 (the \"License\");\n",
    "# you may not use this file except in compliance with the License.\n",
    "# You may obtain a copy of the License at\n",
    "#\n",
    "# https://www.apache.org/licenses/LICENSE-2.0\n",
    "#\n",
    "# Unless required by applicable law or agreed to in writing, software\n",
    "# distributed under the License is distributed on an \"AS IS\" BASIS,\n",
    "# WITHOUT WARRANTIES OR CONDITIONS OF ANY KIND, either express or implied.\n",
    "# See the License for the specific language governing permissions and\n",
    "# limitations under the License.\n",
    "#\n",
    "# THIS FILE HAS BEEN MODIFIED\n",
    "\n",
    "import os\n",
    "import shutil\n",
    "\n",
    "import tensorflow as tf\n",
    "import tensorflow_hub as hub\n",
    "import tensorflow_text as text\n",
    "import pandas as pd\n",
    "import numpy as np\n",
    "from official.nlp import optimization  # to create AdamW optimizer\n",
    "\n",
    "import matplotlib.pyplot as plt\n",
    "\n",
    "tf.get_logger().setLevel('ERROR')"
   ]
  },
  {
   "cell_type": "code",
   "execution_count": 2,
   "metadata": {},
   "outputs": [],
   "source": [
    "#bring the model back in\n",
    "dataset_name = 'imdb'\n",
    "saved_model_path = './{}_bert'.format(dataset_name.replace('/', '_'))\n",
    "reloaded_model = tf.saved_model.load(saved_model_path)"
   ]
  },
  {
   "cell_type": "code",
   "execution_count": 4,
   "metadata": {},
   "outputs": [],
   "source": [
    "#get the RTP sentences in\n",
    "with open(\"complete_data.csv\", \"r\", encoding=\"utf-8\") as f:\n",
    "    df_sentences = pd.read_csv(f, usecols=[1], names=['sentences'])\n",
    "\n",
    "sentences = df_sentences['sentences'].values.tolist()\n",
    "results = tf.sigmoid(reloaded_model(tf.constant(sentences)))"
   ]
  },
  {
   "cell_type": "code",
   "execution_count": 5,
   "metadata": {},
   "outputs": [
    {
     "name": "stdout",
     "output_type": "stream",
     "text": [
      "examples:\n",
      "sentence: Thus, I now propose that we look to science to solve the question of abortion.        : score: 0.696205\n",
      "sentence: Many voters believe that this election hinged on each candidate’s abortion stance.    : score: 0.195648\n"
     ]
    }
   ],
   "source": [
    "np_results = results.numpy()\n",
    "print(\"examples:\")\n",
    "print(\"sentence:\", sentences[2], \"       : score:\", \"{:.6f}\".format(np_results[2][0]))\n",
    "print(\"sentence:\", sentences[17], \"   : score:\", \"{:.6f}\".format(np_results[17][0]))"
   ]
  },
  {
   "cell_type": "code",
   "execution_count": 6,
   "metadata": {},
   "outputs": [],
   "source": [
    "#get the results to type=list\n",
    "list_results = []\n",
    "for i in range(len(np_results)):\n",
    "    list_results.append(\"{:.6f}\".format(np_results[i][0]))"
   ]
  },
  {
   "cell_type": "code",
   "execution_count": 7,
   "metadata": {},
   "outputs": [
    {
     "data": {
      "text/html": [
       "<div>\n",
       "<style scoped>\n",
       "    .dataframe tbody tr th:only-of-type {\n",
       "        vertical-align: middle;\n",
       "    }\n",
       "\n",
       "    .dataframe tbody tr th {\n",
       "        vertical-align: top;\n",
       "    }\n",
       "\n",
       "    .dataframe thead th {\n",
       "        text-align: right;\n",
       "    }\n",
       "</style>\n",
       "<table border=\"1\" class=\"dataframe\">\n",
       "  <thead>\n",
       "    <tr style=\"text-align: right;\">\n",
       "      <th></th>\n",
       "      <th>0</th>\n",
       "      <th>1</th>\n",
       "      <th>2</th>\n",
       "      <th>3</th>\n",
       "    </tr>\n",
       "  </thead>\n",
       "  <tbody>\n",
       "    <tr>\n",
       "      <th>0</th>\n",
       "      <td>0</td>\n",
       "      <td>Call Inter—Campus programs 1800-327-6013     S...</td>\n",
       "      <td>1989-1990</td>\n",
       "      <td>abortion</td>\n",
       "    </tr>\n",
       "    <tr>\n",
       "      <th>1</th>\n",
       "      <td>1</td>\n",
       "      <td>The Rlng-tum Phl, October 19, 1989  Abortion: ...</td>\n",
       "      <td>1989-1990</td>\n",
       "      <td>abortion</td>\n",
       "    </tr>\n",
       "    <tr>\n",
       "      <th>2</th>\n",
       "      <td>2</td>\n",
       "      <td>Thus, I now propose that we look to science to...</td>\n",
       "      <td>1989-1990</td>\n",
       "      <td>abortion</td>\n",
       "    </tr>\n",
       "    <tr>\n",
       "      <th>3</th>\n",
       "      <td>3</td>\n",
       "      <td>So trust me, I’ll not talk of a new utopia, ju...</td>\n",
       "      <td>1989-1990</td>\n",
       "      <td>abortion</td>\n",
       "    </tr>\n",
       "    <tr>\n",
       "      <th>4</th>\n",
       "      <td>4</td>\n",
       "      <td>Now the answer to abortion is easy.</td>\n",
       "      <td>1989-1990</td>\n",
       "      <td>abortion</td>\n",
       "    </tr>\n",
       "  </tbody>\n",
       "</table>\n",
       "</div>"
      ],
      "text/plain": [
       "   0                                                  1          2         3\n",
       "0  0  Call Inter—Campus programs 1800-327-6013     S...  1989-1990  abortion\n",
       "1  1  The Rlng-tum Phl, October 19, 1989  Abortion: ...  1989-1990  abortion\n",
       "2  2  Thus, I now propose that we look to science to...  1989-1990  abortion\n",
       "3  3  So trust me, I’ll not talk of a new utopia, ju...  1989-1990  abortion\n",
       "4  4                Now the answer to abortion is easy.  1989-1990  abortion"
      ]
     },
     "execution_count": 7,
     "metadata": {},
     "output_type": "execute_result"
    }
   ],
   "source": [
    "#read in complete_data to DataFrame which will become the final dataset\n",
    "with open(\"complete_data.csv\", \"r\", encoding=\"utf-8\") as f:\n",
    "    df_final = pd.read_csv(f, header=None)\n",
    "\n",
    "df_final.head()"
   ]
  },
  {
   "cell_type": "code",
   "execution_count": 8,
   "metadata": {},
   "outputs": [
    {
     "data": {
      "text/html": [
       "<div>\n",
       "<style scoped>\n",
       "    .dataframe tbody tr th:only-of-type {\n",
       "        vertical-align: middle;\n",
       "    }\n",
       "\n",
       "    .dataframe tbody tr th {\n",
       "        vertical-align: top;\n",
       "    }\n",
       "\n",
       "    .dataframe thead th {\n",
       "        text-align: right;\n",
       "    }\n",
       "</style>\n",
       "<table border=\"1\" class=\"dataframe\">\n",
       "  <thead>\n",
       "    <tr style=\"text-align: right;\">\n",
       "      <th></th>\n",
       "      <th>0</th>\n",
       "      <th>results-inserted</th>\n",
       "      <th>1</th>\n",
       "      <th>2</th>\n",
       "      <th>3</th>\n",
       "    </tr>\n",
       "  </thead>\n",
       "  <tbody>\n",
       "    <tr>\n",
       "      <th>0</th>\n",
       "      <td>0</td>\n",
       "      <td>0.998409</td>\n",
       "      <td>Call Inter—Campus programs 1800-327-6013     S...</td>\n",
       "      <td>1989-1990</td>\n",
       "      <td>abortion</td>\n",
       "    </tr>\n",
       "    <tr>\n",
       "      <th>1</th>\n",
       "      <td>1</td>\n",
       "      <td>0.471447</td>\n",
       "      <td>The Rlng-tum Phl, October 19, 1989  Abortion: ...</td>\n",
       "      <td>1989-1990</td>\n",
       "      <td>abortion</td>\n",
       "    </tr>\n",
       "    <tr>\n",
       "      <th>2</th>\n",
       "      <td>2</td>\n",
       "      <td>0.696205</td>\n",
       "      <td>Thus, I now propose that we look to science to...</td>\n",
       "      <td>1989-1990</td>\n",
       "      <td>abortion</td>\n",
       "    </tr>\n",
       "    <tr>\n",
       "      <th>3</th>\n",
       "      <td>3</td>\n",
       "      <td>0.147789</td>\n",
       "      <td>So trust me, I’ll not talk of a new utopia, ju...</td>\n",
       "      <td>1989-1990</td>\n",
       "      <td>abortion</td>\n",
       "    </tr>\n",
       "    <tr>\n",
       "      <th>4</th>\n",
       "      <td>4</td>\n",
       "      <td>0.985572</td>\n",
       "      <td>Now the answer to abortion is easy.</td>\n",
       "      <td>1989-1990</td>\n",
       "      <td>abortion</td>\n",
       "    </tr>\n",
       "  </tbody>\n",
       "</table>\n",
       "</div>"
      ],
      "text/plain": [
       "   0 results-inserted                                                  1  \\\n",
       "0  0         0.998409  Call Inter—Campus programs 1800-327-6013     S...   \n",
       "1  1         0.471447  The Rlng-tum Phl, October 19, 1989  Abortion: ...   \n",
       "2  2         0.696205  Thus, I now propose that we look to science to...   \n",
       "3  3         0.147789  So trust me, I’ll not talk of a new utopia, ju...   \n",
       "4  4         0.985572                Now the answer to abortion is easy.   \n",
       "\n",
       "           2         3  \n",
       "0  1989-1990  abortion  \n",
       "1  1989-1990  abortion  \n",
       "2  1989-1990  abortion  \n",
       "3  1989-1990  abortion  \n",
       "4  1989-1990  abortion  "
      ]
     },
     "execution_count": 8,
     "metadata": {},
     "output_type": "execute_result"
    }
   ],
   "source": [
    "#create a final DataFrame with all data (including the results)\n",
    "df_final.insert(loc=1, column='results-inserted', value=list_results)\n",
    "df_final.head()"
   ]
  },
  {
   "cell_type": "code",
   "execution_count": 9,
   "metadata": {},
   "outputs": [],
   "source": [
    "#save DataFrame to .csv\n",
    "df_final.to_csv(\"final_data.csv\", index=False, header=False)"
   ]
  }
 ],
 "metadata": {
  "interpreter": {
   "hash": "838301c4acc3ee57777ee3459a885427ae33a82cd4c2ca3bd31d44c31500ebc4"
  },
  "kernelspec": {
   "display_name": "Python 3.9.2 ('dci')",
   "language": "python",
   "name": "python3"
  },
  "language_info": {
   "codemirror_mode": {
    "name": "ipython",
    "version": 3
   },
   "file_extension": ".py",
   "mimetype": "text/x-python",
   "name": "python",
   "nbconvert_exporter": "python",
   "pygments_lexer": "ipython3",
   "version": "3.9.2"
  },
  "orig_nbformat": 4
 },
 "nbformat": 4,
 "nbformat_minor": 2
}
