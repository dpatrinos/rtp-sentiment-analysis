{
 "cells": [
  {
   "cell_type": "code",
   "execution_count": null,
   "metadata": {},
   "outputs": [],
   "source": [
    "import pandas as pd\n",
    "from operator import itemgetter\n",
    "from sklearn.model_selection import train_test_split"
   ]
  },
  {
   "cell_type": "code",
   "execution_count": null,
   "metadata": {},
   "outputs": [],
   "source": [
    "#open up our raw data\n",
    "#make a list with column 0 as IDs and column 1 as phrases\n",
    "dictionary = []\n",
    "split_index = 0\n",
    "id = 0\n",
    "phrase = \"\"\n",
    "with open(\"./data/raw/stanford/dictionary.txt\", \"r\") as f:\n",
    "    for line in f:\n",
    "        split_index = line.index(\"|\")\n",
    "        phrase = line[:split_index]\n",
    "        id = int(line[split_index+1:])\n",
    "        dictionary.append([id, phrase])\n",
    "\n",
    "#need to sort dictionary numerically by ID\n",
    "dictionary_sorted = sorted(dictionary, key=itemgetter(0))\n",
    "\n",
    "#make a list with column 0 as IDs and column 1 as sentiment label and then sort\n",
    "sentiment_labels = []\n",
    "label = 0.0\n",
    "with open(\"./data/raw/stanford/sentiment_labels.txt\", \"r\") as f:\n",
    "    for line in f:\n",
    "        split_index = line.index(\"|\")\n",
    "        id = int(line[:split_index])\n",
    "        label = float(line[split_index+1:])\n",
    "        sentiment_labels.append([id, label])"
   ]
  },
  {
   "cell_type": "code",
   "execution_count": null,
   "metadata": {},
   "outputs": [],
   "source": [
    "#combine it all into one list\n",
    "combined = []\n",
    "for i in range(len(dictionary_sorted)):\n",
    "    combined.append([dictionary_sorted[i][0], sentiment_labels[i][1], \"a\", dictionary_sorted[i][1]])"
   ]
  },
  {
   "cell_type": "code",
   "execution_count": null,
   "metadata": {},
   "outputs": [],
   "source": [
    "#turn them into pd DataFrames\n",
    "df = pd.DataFrame(combined)\n",
    "df_train, df_test = train_test_split(df, test_size=0.2)\n",
    "\n",
    "df_train, df_dev = train_test_split(df_train, test_size=0.01)\n",
    "df_train.head()"
   ]
  },
  {
   "cell_type": "code",
   "execution_count": null,
   "metadata": {},
   "outputs": [],
   "source": [
    "#format test DataFrame\n",
    "df_test = df_test.drop(df_test.columns[[1, 2]], axis=1)\n",
    "df_test.head()"
   ]
  },
  {
   "cell_type": "code",
   "execution_count": null,
   "metadata": {},
   "outputs": [],
   "source": [
    "#get DataFrames into .tsv\n",
    "df_train.to_csv('./data/train.tsv', sep='\\t', index=False, header=False)\n",
    "df_dev.to_csv('./data/dev.tsv', sep='\\t', index=False, header=False)\n",
    "df_test.to_csv('./data/test.tsv', sep='\\t', index=False, header=False)"
   ]
  }
 ],
 "metadata": {
  "interpreter": {
   "hash": "f2670aed37e56a12263537fc02214094e3fc2a74c13486e6efa5181bd43e995b"
  },
  "kernelspec": {
   "display_name": "Python 3.8.8 ('dci')",
   "language": "python",
   "name": "python3"
  },
  "language_info": {
   "codemirror_mode": {
    "name": "ipython",
    "version": 3
   },
   "file_extension": ".py",
   "mimetype": "text/x-python",
   "name": "python",
   "nbconvert_exporter": "python",
   "pygments_lexer": "ipython3",
   "version": "3.8.8"
  },
  "orig_nbformat": 4
 },
 "nbformat": 4,
 "nbformat_minor": 2
}
