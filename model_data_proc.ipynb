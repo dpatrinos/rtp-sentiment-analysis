{
 "cells": [
  {
   "cell_type": "code",
   "execution_count": 1,
   "metadata": {},
   "outputs": [],
   "source": [
    "import pandas as pd\n",
    "from operator import itemgetter\n",
    "from sklearn.model_selection import train_test_split"
   ]
  },
  {
   "cell_type": "code",
   "execution_count": 2,
   "metadata": {},
   "outputs": [],
   "source": [
    "#open up our raw data\n",
    "#make a list with column 0 as IDs and column 1 as phrases\n",
    "dictionary = []\n",
    "split_index = 0\n",
    "id = 0\n",
    "phrase = \"\"\n",
    "with open(\"./data/raw/stanford/dictionary.txt\", \"r\") as f:\n",
    "    for line in f:\n",
    "        split_index = line.index(\"|\")\n",
    "        phrase = line[:split_index]\n",
    "        id = int(line[split_index+1:])\n",
    "        dictionary.append([id, phrase])\n",
    "\n",
    "#need to sort dictionary numerically by ID\n",
    "dictionary_sorted = sorted(dictionary, key=itemgetter(0))\n",
    "\n",
    "#make a list with column 0 as IDs and column 1 as sentiment label and then sort\n",
    "sentiment_labels = []\n",
    "label = 0.0\n",
    "with open(\"./data/raw/stanford/sentiment_labels.txt\", \"r\") as f:\n",
    "    for line in f:\n",
    "        split_index = line.index(\"|\")\n",
    "        id = int(line[:split_index])\n",
    "        label = float(line[split_index+1:])\n",
    "        sentiment_labels.append([id, label])"
   ]
  },
  {
   "cell_type": "code",
   "execution_count": 3,
   "metadata": {},
   "outputs": [],
   "source": [
    "#combine it all into one list\n",
    "combined = []\n",
    "for i in range(len(dictionary_sorted)):\n",
    "    combined.append([dictionary_sorted[i][0], sentiment_labels[i][1], \"a\", dictionary_sorted[i][1]])"
   ]
  },
  {
   "cell_type": "code",
   "execution_count": 4,
   "metadata": {},
   "outputs": [
    {
     "data": {
      "text/html": [
       "<div>\n",
       "<style scoped>\n",
       "    .dataframe tbody tr th:only-of-type {\n",
       "        vertical-align: middle;\n",
       "    }\n",
       "\n",
       "    .dataframe tbody tr th {\n",
       "        vertical-align: top;\n",
       "    }\n",
       "\n",
       "    .dataframe thead th {\n",
       "        text-align: right;\n",
       "    }\n",
       "</style>\n",
       "<table border=\"1\" class=\"dataframe\">\n",
       "  <thead>\n",
       "    <tr style=\"text-align: right;\">\n",
       "      <th></th>\n",
       "      <th>0</th>\n",
       "      <th>1</th>\n",
       "      <th>2</th>\n",
       "      <th>3</th>\n",
       "    </tr>\n",
       "  </thead>\n",
       "  <tbody>\n",
       "    <tr>\n",
       "      <th>135222</th>\n",
       "      <td>135222</td>\n",
       "      <td>0.50000</td>\n",
       "      <td>a</td>\n",
       "      <td>the extent</td>\n",
       "    </tr>\n",
       "    <tr>\n",
       "      <th>126287</th>\n",
       "      <td>126287</td>\n",
       "      <td>0.50000</td>\n",
       "      <td>a</td>\n",
       "      <td>long as 3-year-olds</td>\n",
       "    </tr>\n",
       "    <tr>\n",
       "      <th>133467</th>\n",
       "      <td>133467</td>\n",
       "      <td>0.55556</td>\n",
       "      <td>a</td>\n",
       "      <td>stuffs his debut with more plot</td>\n",
       "    </tr>\n",
       "    <tr>\n",
       "      <th>177881</th>\n",
       "      <td>177881</td>\n",
       "      <td>0.33333</td>\n",
       "      <td>a</td>\n",
       "      <td>well-acted but dangerously slow</td>\n",
       "    </tr>\n",
       "    <tr>\n",
       "      <th>149010</th>\n",
       "      <td>149010</td>\n",
       "      <td>0.50000</td>\n",
       "      <td>a</td>\n",
       "      <td>Taken purely as an exercise in style</td>\n",
       "    </tr>\n",
       "  </tbody>\n",
       "</table>\n",
       "</div>"
      ],
      "text/plain": [
       "             0        1  2                                     3\n",
       "135222  135222  0.50000  a                            the extent\n",
       "126287  126287  0.50000  a                   long as 3-year-olds\n",
       "133467  133467  0.55556  a       stuffs his debut with more plot\n",
       "177881  177881  0.33333  a       well-acted but dangerously slow\n",
       "149010  149010  0.50000  a  Taken purely as an exercise in style"
      ]
     },
     "execution_count": 4,
     "metadata": {},
     "output_type": "execute_result"
    }
   ],
   "source": [
    "#turn them into pd DataFrames\n",
    "df = pd.DataFrame(combined)\n",
    "df_train, df_test = train_test_split(df, test_size=0.2)\n",
    "\n",
    "df_train, df_dev = train_test_split(df_train, test_size=0.01)\n",
    "df_train.head()"
   ]
  },
  {
   "cell_type": "code",
   "execution_count": 5,
   "metadata": {},
   "outputs": [
    {
     "data": {
      "text/html": [
       "<div>\n",
       "<style scoped>\n",
       "    .dataframe tbody tr th:only-of-type {\n",
       "        vertical-align: middle;\n",
       "    }\n",
       "\n",
       "    .dataframe tbody tr th {\n",
       "        vertical-align: top;\n",
       "    }\n",
       "\n",
       "    .dataframe thead th {\n",
       "        text-align: right;\n",
       "    }\n",
       "</style>\n",
       "<table border=\"1\" class=\"dataframe\">\n",
       "  <thead>\n",
       "    <tr style=\"text-align: right;\">\n",
       "      <th></th>\n",
       "      <th>0</th>\n",
       "      <th>3</th>\n",
       "    </tr>\n",
       "  </thead>\n",
       "  <tbody>\n",
       "    <tr>\n",
       "      <th>61358</th>\n",
       "      <td>61358</td>\n",
       "      <td>'s virtually impossible to like any of these d...</td>\n",
       "    </tr>\n",
       "    <tr>\n",
       "      <th>113173</th>\n",
       "      <td>113173</td>\n",
       "      <td>about memory and regret</td>\n",
       "    </tr>\n",
       "    <tr>\n",
       "      <th>12816</th>\n",
       "      <td>12816</td>\n",
       "      <td>wait for your pay per view dollar</td>\n",
       "    </tr>\n",
       "    <tr>\n",
       "      <th>48337</th>\n",
       "      <td>48337</td>\n",
       "      <td>a remote seacoast in Iran</td>\n",
       "    </tr>\n",
       "    <tr>\n",
       "      <th>50362</th>\n",
       "      <td>50362</td>\n",
       "      <td>computerized Yoda</td>\n",
       "    </tr>\n",
       "  </tbody>\n",
       "</table>\n",
       "</div>"
      ],
      "text/plain": [
       "             0                                                  3\n",
       "61358    61358  's virtually impossible to like any of these d...\n",
       "113173  113173                            about memory and regret\n",
       "12816    12816                  wait for your pay per view dollar\n",
       "48337    48337                          a remote seacoast in Iran\n",
       "50362    50362                                  computerized Yoda"
      ]
     },
     "execution_count": 5,
     "metadata": {},
     "output_type": "execute_result"
    }
   ],
   "source": [
    "#format test DataFrame\n",
    "df_test = df_test.drop(df_test.columns[[1, 2]], axis=1)\n",
    "df_test.head()"
   ]
  },
  {
   "cell_type": "code",
   "execution_count": 6,
   "metadata": {},
   "outputs": [],
   "source": [
    "#get DataFrames into .tsv\n",
    "df_train.to_csv('./data/train.tsv', sep='\\t', index=False, header=False)\n",
    "df_dev.to_csv('./data/dev.tsv', sep='\\t', index=False, header=False)\n",
    "df_test.to_csv('./data/test.tsv', sep='\\t', index=False, header=False)"
   ]
  }
 ],
 "metadata": {
  "interpreter": {
   "hash": "f2670aed37e56a12263537fc02214094e3fc2a74c13486e6efa5181bd43e995b"
  },
  "kernelspec": {
   "display_name": "Python 3.8.8 ('dci')",
   "language": "python",
   "name": "python3"
  },
  "language_info": {
   "codemirror_mode": {
    "name": "ipython",
    "version": 3
   },
   "file_extension": ".py",
   "mimetype": "text/x-python",
   "name": "python",
   "nbconvert_exporter": "python",
   "pygments_lexer": "ipython3",
   "version": "3.10.3"
  },
  "orig_nbformat": 4
 },
 "nbformat": 4,
 "nbformat_minor": 2
}
