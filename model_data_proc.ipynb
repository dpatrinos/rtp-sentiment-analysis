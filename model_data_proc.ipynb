{
 "cells": [
  {
   "cell_type": "code",
   "execution_count": 1,
   "metadata": {},
   "outputs": [],
   "source": [
    "import pandas as pd\n",
    "from operator import itemgetter\n",
    "from sklearn.model_selection import train_test_split"
   ]
  },
  {
   "cell_type": "code",
   "execution_count": 2,
   "metadata": {},
   "outputs": [],
   "source": [
    "#open up our raw data\n",
    "#make a list with column 0 as IDs and column 1 as phrases\n",
    "dictionary = []\n",
    "split_index = 0\n",
    "id = 0\n",
    "phrase = \"\"\n",
    "with open(\"./data/raw/stanford/dictionary.txt\", \"r\") as f:\n",
    "    for line in f:\n",
    "        split_index = line.index(\"|\")\n",
    "        phrase = line[:split_index]\n",
    "        #phrase = phrase.lower()\n",
    "        id = int(line[split_index+1:])\n",
    "        dictionary.append([id, phrase])\n",
    "\n",
    "#need to sort dictionary numerically by ID\n",
    "dictionary_sorted = sorted(dictionary, key=itemgetter(0))\n",
    "\n",
    "#make a list with column 0 as IDs and column 1 as sentiment label and then sort\n",
    "sentiment_labels = []\n",
    "label = 0.0\n",
    "with open(\"./data/raw/stanford/sentiment_labels.txt\", \"r\") as f:\n",
    "    for line in f:\n",
    "        split_index = line.index(\"|\")\n",
    "        id = int(line[:split_index])\n",
    "        label = float(line[split_index+1:])\n",
    "        sentiment_labels.append([id, label])"
   ]
  },
  {
   "cell_type": "code",
   "execution_count": 3,
   "metadata": {},
   "outputs": [],
   "source": [
    "#combine it all into one list\n",
    "combined = []\n",
    "for i in range(len(dictionary_sorted)):\n",
    "    combined.append([dictionary_sorted[i][0], sentiment_labels[i][1], \"a\", dictionary_sorted[i][1]])"
   ]
  },
  {
   "cell_type": "code",
   "execution_count": 4,
   "metadata": {},
   "outputs": [
    {
     "data": {
      "text/html": [
       "<div>\n",
       "<style scoped>\n",
       "    .dataframe tbody tr th:only-of-type {\n",
       "        vertical-align: middle;\n",
       "    }\n",
       "\n",
       "    .dataframe tbody tr th {\n",
       "        vertical-align: top;\n",
       "    }\n",
       "\n",
       "    .dataframe thead th {\n",
       "        text-align: right;\n",
       "    }\n",
       "</style>\n",
       "<table border=\"1\" class=\"dataframe\">\n",
       "  <thead>\n",
       "    <tr style=\"text-align: right;\">\n",
       "      <th></th>\n",
       "      <th>0</th>\n",
       "      <th>1</th>\n",
       "      <th>2</th>\n",
       "      <th>3</th>\n",
       "    </tr>\n",
       "  </thead>\n",
       "  <tbody>\n",
       "    <tr>\n",
       "      <th>207931</th>\n",
       "      <td>207931</td>\n",
       "      <td>0.50000</td>\n",
       "      <td>a</td>\n",
       "      <td>of pre-9 \\ \\/ 11 New York and onto a cross-cou...</td>\n",
       "    </tr>\n",
       "    <tr>\n",
       "      <th>101900</th>\n",
       "      <td>101900</td>\n",
       "      <td>0.47222</td>\n",
       "      <td>a</td>\n",
       "      <td>'s so prevalent on The Rock</td>\n",
       "    </tr>\n",
       "    <tr>\n",
       "      <th>163441</th>\n",
       "      <td>163441</td>\n",
       "      <td>0.20833</td>\n",
       "      <td>a</td>\n",
       "      <td>is that they 're watching a 76-minute commercial</td>\n",
       "    </tr>\n",
       "    <tr>\n",
       "      <th>147742</th>\n",
       "      <td>147742</td>\n",
       "      <td>0.23611</td>\n",
       "      <td>a</td>\n",
       "      <td>None of the characters or plot-lines are flesh...</td>\n",
       "    </tr>\n",
       "    <tr>\n",
       "      <th>104109</th>\n",
       "      <td>104109</td>\n",
       "      <td>0.48611</td>\n",
       "      <td>a</td>\n",
       "      <td>Alarms</td>\n",
       "    </tr>\n",
       "  </tbody>\n",
       "</table>\n",
       "</div>"
      ],
      "text/plain": [
       "             0        1  2                                                  3\n",
       "207931  207931  0.50000  a  of pre-9 \\ \\/ 11 New York and onto a cross-cou...\n",
       "101900  101900  0.47222  a                        's so prevalent on The Rock\n",
       "163441  163441  0.20833  a   is that they 're watching a 76-minute commercial\n",
       "147742  147742  0.23611  a  None of the characters or plot-lines are flesh...\n",
       "104109  104109  0.48611  a                                             Alarms"
      ]
     },
     "execution_count": 4,
     "metadata": {},
     "output_type": "execute_result"
    }
   ],
   "source": [
    "#turn them into pd DataFrames\n",
    "df = pd.DataFrame(combined)\n",
    "df_train, df_dev = train_test_split(df, test_size=0.01)\n",
    "df_train.head()"
   ]
  },
  {
   "cell_type": "code",
   "execution_count": 5,
   "metadata": {},
   "outputs": [],
   "source": [
    "#get DataFrames into .tsv\n",
    "df_train.to_csv('./bert/data/train.tsv', sep='\\t', index=False, header=False)\n",
    "df_dev.to_csv('./bert/data/dev.tsv', sep='\\t', index=False, header=False)"
   ]
  }
 ],
 "metadata": {
  "interpreter": {
   "hash": "f2670aed37e56a12263537fc02214094e3fc2a74c13486e6efa5181bd43e995b"
  },
  "kernelspec": {
   "display_name": "Python 3.8.8 ('dci')",
   "language": "python",
   "name": "python3"
  },
  "language_info": {
   "codemirror_mode": {
    "name": "ipython",
    "version": 3
   },
   "file_extension": ".py",
   "mimetype": "text/x-python",
   "name": "python",
   "nbconvert_exporter": "python",
   "pygments_lexer": "ipython3",
   "version": "3.10.3"
  },
  "orig_nbformat": 4
 },
 "nbformat": 4,
 "nbformat_minor": 2
}
